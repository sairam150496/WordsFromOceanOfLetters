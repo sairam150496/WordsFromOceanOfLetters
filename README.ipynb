WORDS FROM OCEAN OF LETTERS:

  - This module basically helps you to detect all the words in the image.
  - It basically uses OCR to extract all the text from an image, and the text is been compared with words dynamically
  - If word matches accurately then it returns it to you.
